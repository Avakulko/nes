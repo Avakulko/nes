{
 "cells": [
  {
   "cell_type": "code",
   "execution_count": 4,
   "metadata": {
    "collapsed": true
   },
   "outputs": [],
   "source": [
    "import numpy as np\n",
    "import pandas as pd\n",
    "from datetime import datetime"
   ]
  },
  {
   "cell_type": "code",
   "execution_count": 5,
   "outputs": [
    {
     "name": "stderr",
     "output_type": "stream",
     "text": [
      "c:\\users\\andre\\appdata\\local\\programs\\python\\python37\\lib\\site-packages\\ipykernel_launcher.py:38: SettingWithCopyWarning: \n",
      "A value is trying to be set on a copy of a slice from a DataFrame.\n",
      "Try using .loc[row_indexer,col_indexer] = value instead\n",
      "\n",
      "See the caveats in the documentation: https://pandas.pydata.org/pandas-docs/stable/user_guide/indexing.html#returning-a-view-versus-a-copy\n",
      "c:\\users\\andre\\appdata\\local\\programs\\python\\python37\\lib\\site-packages\\ipykernel_launcher.py:39: SettingWithCopyWarning: \n",
      "A value is trying to be set on a copy of a slice from a DataFrame.\n",
      "Try using .loc[row_indexer,col_indexer] = value instead\n",
      "\n",
      "See the caveats in the documentation: https://pandas.pydata.org/pandas-docs/stable/user_guide/indexing.html#returning-a-view-versus-a-copy\n"
     ]
    },
    {
     "name": "stdout",
     "output_type": "stream",
     "text": [
      "<class 'pandas.core.frame.DataFrame'>\n",
      "RangeIndex: 748005 entries, 0 to 748004\n",
      "Data columns (total 18 columns):\n",
      " #   Column           Non-Null Count   Dtype         \n",
      "---  ------           --------------   -----         \n",
      " 0   index            748005 non-null  int64         \n",
      " 1   timestamp        748005 non-null  float64       \n",
      " 2   price            748005 non-null  float64       \n",
      " 3   instrument_name  748005 non-null  object        \n",
      " 4   index_price      748005 non-null  float64       \n",
      " 5   direction        748005 non-null  object        \n",
      " 6   amount           748005 non-null  float64       \n",
      " 7   time_trade       748005 non-null  datetime64[ns]\n",
      " 8   strike           748005 non-null  int64         \n",
      " 9   type             748005 non-null  object        \n",
      " 10  time_create      748005 non-null  datetime64[ns]\n",
      " 11  time_expire      748005 non-null  datetime64[ns]\n",
      " 12  date             748005 non-null  datetime64[ns]\n",
      " 13  irate            748005 non-null  float64       \n",
      " 14  price_USD        748005 non-null  float64       \n",
      " 15  iv_Tbill         748005 non-null  float64       \n",
      " 16  tt               748005 non-null  float64       \n",
      " 17  C_market         748005 non-null  float64       \n",
      "dtypes: datetime64[ns](4), float64(9), int64(2), object(3)\n",
      "memory usage: 102.7+ MB\n"
     ]
    },
    {
     "data": {
      "text/plain": "<AxesSubplot:>"
     },
     "execution_count": 5,
     "metadata": {},
     "output_type": "execute_result"
    },
    {
     "data": {
      "text/plain": "<Figure size 432x288 with 1 Axes>",
      "image/png": "[encoded data removed]"
     },
     "metadata": {
      "needs_background": "light"
     },
     "output_type": "display_data"
    }
   ],
   "source": [
    "# timestamp: ms passed from epoch\n",
    "# price: option on 1 BTC price in BTC\n",
    "# instrument_name: BTC-17FEB17-975-C\n",
    "# index_price: price of 1 BTC in USD\n",
    "# direction: sell/buy\n",
    "# amount: amount of underlying BTC\n",
    "# time_trade: ...\n",
    "# strike: strike price in USD\n",
    "# type: call/put\n",
    "# time_create: ...\n",
    "# time_expire: ...\n",
    "# date: date of trade\n",
    "# irate: 3m Treasury bill rate\n",
    "# price_USD: option on 1 BTC price in USD\n",
    "# iv_Tbill: BS implied volatility according to 3m Treasury Bill\n",
    "# tt: time to maturity in fractions of a year (365 day)\n",
    "\n",
    "\n",
    "# C_market: рыночная стоимость колл-опциона на 1 BTC выраженная в USD\n",
    "\n",
    "df = pd.read_csv('Data/Deribit_w_IV.csv')\n",
    "\n",
    "# некоторые iv_tbill имеют значение .\n",
    "df = df[df['iv_Tbill'] != '.']\n",
    "df['iv_Tbill'] = df['iv_Tbill'].astype(np.float64)\n",
    "# Выбрасываем безумные значения IV. У всех таких ордеров очень маленькое tt. Откуда такие значения IV и нужно ли их выбрасывать?\n",
    "df = df[df['iv_Tbill'] <= 300]\n",
    "# Корректируем типы\n",
    "df['date'] = pd.to_datetime(df['date'])\n",
    "df['time_trade'] = pd.to_datetime(df['time_trade'])\n",
    "df['time_create'] = pd.to_datetime(df['time_create'])\n",
    "df['time_expire'] = pd.to_datetime(df['time_expire'])\n",
    "\n",
    "# Переводим стоимости путов в стоимости коллов через пут-колл паритет и помещаем результат в C_market\n",
    "puts = df[df['type'] == 'put']\n",
    "calls = df[df['type'] == 'call']\n",
    "\n",
    "calls['C_market'] = calls['price_USD']\n",
    "puts['C_market'] = puts['price_USD'] + puts['index_price'] - puts['strike'] * np.exp(-puts['irate'] * puts['tt'])\n",
    "df = pd.concat([calls, puts]) #[['index_price', 'strike', 'time_expire', 'tt', 'date', 'C_market', 'iv_Tbill', 'irate', 'type']]\n",
    "df = df.reset_index()\n",
    "\n",
    "df['iv_Tbill'].hist()\n",
    "df.info()\n",
    "df['amount'].hist()"
   ],
   "metadata": {
    "collapsed": false,
    "pycharm": {
     "name": "#%%\n"
    }
   }
  },
  {
   "cell_type": "code",
   "execution_count": 164,
   "outputs": [
    {
     "data": {
      "text/plain": "    strike         time_expire  index_price        tt     C_market  \\\n0     5500 2017-12-29 08:00:00  6984.950000  0.154223  1640.066260   \n1     6000 2017-12-29 08:00:00  7280.328182  0.153210  1487.531207   \n2     6500 2017-11-03 08:00:00  7175.790000  0.000390   675.959418   \n3     6500 2017-11-10 08:00:00  7295.393571  0.018765   900.908145   \n4     6500 2017-11-24 08:00:00  7381.670000  0.057329  1032.698624   \n5     6500 2017-12-29 08:00:00  7298.669231  0.152880  1201.723359   \n6     6600 2017-11-24 08:00:00  7040.270000  0.058431   633.624300   \n7     6750 2017-11-10 08:00:00  7287.410000  0.018607   755.949116   \n8     6800 2017-11-03 08:00:00  7001.030000  0.000731   261.138419   \n9     7000 2017-11-03 08:00:00  6984.170000  0.000724   127.111894   \n10    7000 2017-11-10 08:00:00  7309.738750  0.018655   600.950987   \n11    7000 2017-12-29 08:00:00  7311.682500  0.152661   960.865719   \n12    7100 2017-11-24 08:00:00  7246.175000  0.057187   510.846045   \n13    7200 2017-11-24 08:00:00  7303.650000  0.057144   626.653170   \n14    7250 2017-11-10 08:00:00  7263.216667  0.017884   457.500624   \n15    7500 2017-11-10 08:00:00  7335.145556  0.018416   281.329435   \n16    7500 2017-12-29 08:00:00  7306.518750  0.152973   726.924053   \n17    7750 2017-11-10 08:00:00  7275.784000  0.018539   206.559404   \n18    8000 2017-11-10 08:00:00  7245.292857  0.018248   144.124107   \n19    8000 2017-12-29 08:00:00  7334.255000  0.152176   480.026416   \n20    8250 2017-11-10 08:00:00  7292.405556  0.018160   128.401343   \n21    8500 2017-12-29 08:00:00  7278.076667  0.152741   469.798157   \n22    9000 2017-12-29 08:00:00  7309.410000  0.153376   336.232860   \n23    9500 2017-12-29 08:00:00  7353.440000  0.152760   287.478203   \n24   10000 2017-12-29 08:00:00  7331.203333  0.152704   241.852017   \n\n      iv_Tbill    irate  \n0    64.911678  0.01148  \n1    59.939244  0.01148  \n2   174.330553  0.01148  \n3    97.111106  0.01148  \n4    69.475131  0.01148  \n5    67.503758  0.01148  \n6    56.260199  0.01148  \n7   113.965606  0.01148  \n8   185.273976  0.01148  \n9   179.718762  0.01148  \n10  109.584988  0.01148  \n11   70.946115  0.01148  \n12   63.085685  0.01148  \n13   82.702719  0.01148  \n14  116.196376  0.01148  \n15   88.851064  0.01148  \n16   70.761171  0.01148  \n17   97.879559  0.01148  \n18  101.468333  0.01148  \n19   64.122951  0.01148  \n20  108.775419  0.01148  \n21   78.073124  0.01148  \n22   74.955517  0.01148  \n23   78.143900  0.01148  \n24   81.826821  0.01148  ",
      "text/html": "<div>\n<style scoped>\n    .dataframe tbody tr th:only-of-type {\n        vertical-align: middle;\n    }\n\n    .dataframe tbody tr th {\n        vertical-align: top;\n    }\n\n    .dataframe thead th {\n        text-align: right;\n    }\n</style>\n<table border=\"1\" class=\"dataframe\">\n  <thead>\n    <tr style=\"text-align: right;\">\n      <th></th>\n      <th>strike</th>\n      <th>time_expire</th>\n      <th>index_price</th>\n      <th>tt</th>\n      <th>C_market</th>\n      <th>iv_Tbill</th>\n      <th>irate</th>\n    </tr>\n  </thead>\n  <tbody>\n    <tr>\n      <th>0</th>\n      <td>5500</td>\n      <td>2017-12-29 08:00:00</td>\n      <td>6984.950000</td>\n      <td>0.154223</td>\n      <td>1640.066260</td>\n      <td>64.911678</td>\n      <td>0.01148</td>\n    </tr>\n    <tr>\n      <th>1</th>\n      <td>6000</td>\n      <td>2017-12-29 08:00:00</td>\n      <td>7280.328182</td>\n      <td>0.153210</td>\n      <td>1487.531207</td>\n      <td>59.939244</td>\n      <td>0.01148</td>\n    </tr>\n    <tr>\n      <th>2</th>\n      <td>6500</td>\n      <td>2017-11-03 08:00:00</td>\n      <td>7175.790000</td>\n      <td>0.000390</td>\n      <td>675.959418</td>\n      <td>174.330553</td>\n      <td>0.01148</td>\n    </tr>\n    <tr>\n      <th>3</th>\n      <td>6500</td>\n      <td>2017-11-10 08:00:00</td>\n      <td>7295.393571</td>\n      <td>0.018765</td>\n      <td>900.908145</td>\n      <td>97.111106</td>\n      <td>0.01148</td>\n    </tr>\n    <tr>\n      <th>4</th>\n      <td>6500</td>\n      <td>2017-11-24 08:00:00</td>\n      <td>7381.670000</td>\n      <td>0.057329</td>\n      <td>1032.698624</td>\n      <td>69.475131</td>\n      <td>0.01148</td>\n    </tr>\n    <tr>\n      <th>5</th>\n      <td>6500</td>\n      <td>2017-12-29 08:00:00</td>\n      <td>7298.669231</td>\n      <td>0.152880</td>\n      <td>1201.723359</td>\n      <td>67.503758</td>\n      <td>0.01148</td>\n    </tr>\n    <tr>\n      <th>6</th>\n      <td>6600</td>\n      <td>2017-11-24 08:00:00</td>\n      <td>7040.270000</td>\n      <td>0.058431</td>\n      <td>633.624300</td>\n      <td>56.260199</td>\n      <td>0.01148</td>\n    </tr>\n    <tr>\n      <th>7</th>\n      <td>6750</td>\n      <td>2017-11-10 08:00:00</td>\n      <td>7287.410000</td>\n      <td>0.018607</td>\n      <td>755.949116</td>\n      <td>113.965606</td>\n      <td>0.01148</td>\n    </tr>\n    <tr>\n      <th>8</th>\n      <td>6800</td>\n      <td>2017-11-03 08:00:00</td>\n      <td>7001.030000</td>\n      <td>0.000731</td>\n      <td>261.138419</td>\n      <td>185.273976</td>\n      <td>0.01148</td>\n    </tr>\n    <tr>\n      <th>9</th>\n      <td>7000</td>\n      <td>2017-11-03 08:00:00</td>\n      <td>6984.170000</td>\n      <td>0.000724</td>\n      <td>127.111894</td>\n      <td>179.718762</td>\n      <td>0.01148</td>\n    </tr>\n    <tr>\n      <th>10</th>\n      <td>7000</td>\n      <td>2017-11-10 08:00:00</td>\n      <td>7309.738750</td>\n      <td>0.018655</td>\n      <td>600.950987</td>\n      <td>109.584988</td>\n      <td>0.01148</td>\n    </tr>\n    <tr>\n      <th>11</th>\n      <td>7000</td>\n      <td>2017-12-29 08:00:00</td>\n      <td>7311.682500</td>\n      <td>0.152661</td>\n      <td>960.865719</td>\n      <td>70.946115</td>\n      <td>0.01148</td>\n    </tr>\n    <tr>\n      <th>12</th>\n      <td>7100</td>\n      <td>2017-11-24 08:00:00</td>\n      <td>7246.175000</td>\n      <td>0.057187</td>\n      <td>510.846045</td>\n      <td>63.085685</td>\n      <td>0.01148</td>\n    </tr>\n    <tr>\n      <th>13</th>\n      <td>7200</td>\n      <td>2017-11-24 08:00:00</td>\n      <td>7303.650000</td>\n      <td>0.057144</td>\n      <td>626.653170</td>\n      <td>82.702719</td>\n      <td>0.01148</td>\n    </tr>\n    <tr>\n      <th>14</th>\n      <td>7250</td>\n      <td>2017-11-10 08:00:00</td>\n      <td>7263.216667</td>\n      <td>0.017884</td>\n      <td>457.500624</td>\n      <td>116.196376</td>\n      <td>0.01148</td>\n    </tr>\n    <tr>\n      <th>15</th>\n      <td>7500</td>\n      <td>2017-11-10 08:00:00</td>\n      <td>7335.145556</td>\n      <td>0.018416</td>\n      <td>281.329435</td>\n      <td>88.851064</td>\n      <td>0.01148</td>\n    </tr>\n    <tr>\n      <th>16</th>\n      <td>7500</td>\n      <td>2017-12-29 08:00:00</td>\n      <td>7306.518750</td>\n      <td>0.152973</td>\n      <td>726.924053</td>\n      <td>70.761171</td>\n      <td>0.01148</td>\n    </tr>\n    <tr>\n      <th>17</th>\n      <td>7750</td>\n      <td>2017-11-10 08:00:00</td>\n      <td>7275.784000</td>\n      <td>0.018539</td>\n      <td>206.559404</td>\n      <td>97.879559</td>\n      <td>0.01148</td>\n    </tr>\n    <tr>\n      <th>18</th>\n      <td>8000</td>\n      <td>2017-11-10 08:00:00</td>\n      <td>7245.292857</td>\n      <td>0.018248</td>\n      <td>144.124107</td>\n      <td>101.468333</td>\n      <td>0.01148</td>\n    </tr>\n    <tr>\n      <th>19</th>\n      <td>8000</td>\n      <td>2017-12-29 08:00:00</td>\n      <td>7334.255000</td>\n      <td>0.152176</td>\n      <td>480.026416</td>\n      <td>64.122951</td>\n      <td>0.01148</td>\n    </tr>\n    <tr>\n      <th>20</th>\n      <td>8250</td>\n      <td>2017-11-10 08:00:00</td>\n      <td>7292.405556</td>\n      <td>0.018160</td>\n      <td>128.401343</td>\n      <td>108.775419</td>\n      <td>0.01148</td>\n    </tr>\n    <tr>\n      <th>21</th>\n      <td>8500</td>\n      <td>2017-12-29 08:00:00</td>\n      <td>7278.076667</td>\n      <td>0.152741</td>\n      <td>469.798157</td>\n      <td>78.073124</td>\n      <td>0.01148</td>\n    </tr>\n    <tr>\n      <th>22</th>\n      <td>9000</td>\n      <td>2017-12-29 08:00:00</td>\n      <td>7309.410000</td>\n      <td>0.153376</td>\n      <td>336.232860</td>\n      <td>74.955517</td>\n      <td>0.01148</td>\n    </tr>\n    <tr>\n      <th>23</th>\n      <td>9500</td>\n      <td>2017-12-29 08:00:00</td>\n      <td>7353.440000</td>\n      <td>0.152760</td>\n      <td>287.478203</td>\n      <td>78.143900</td>\n      <td>0.01148</td>\n    </tr>\n    <tr>\n      <th>24</th>\n      <td>10000</td>\n      <td>2017-12-29 08:00:00</td>\n      <td>7331.203333</td>\n      <td>0.152704</td>\n      <td>241.852017</td>\n      <td>81.826821</td>\n      <td>0.01148</td>\n    </tr>\n  </tbody>\n</table>\n</div>"
     },
     "execution_count": 164,
     "metadata": {},
     "output_type": "execute_result"
    }
   ],
   "source": [
    "# # Найдем день, в который торговалось больше всего опционов\n",
    "# max_calls_date = df.date.unique()[0]\n",
    "# max_calls = 0\n",
    "# for date in df.date.unique():\n",
    "#     # Получаем набор торговавшихся опционов и усредняем их параметры\n",
    "#     data = df[df.date == date]\n",
    "#     data = data.groupby(['strike', 'time_expire'])[['index_price', 'tt', 'date', 'C_market', 'iv_Tbill', 'irate']].mean()\n",
    "#     if len(data) > max_calls:\n",
    "#         max_calls = len(data)\n",
    "#         max_calls_date = date\n",
    "\n",
    "# Получаем набор торговавшихся опционов и усредняем их параметры\n",
    "data = df[df.date == df.iloc[11111].date]\n",
    "data = data[data['type'] == 'call']\n",
    "data = data.groupby(['strike', 'time_expire'])[['index_price', 'tt', 'date', 'C_market', 'iv_Tbill', 'irate']].mean()\n",
    "data = data.reset_index()\n",
    "data"
   ],
   "metadata": {
    "collapsed": false,
    "pycharm": {
     "name": "#%%\n"
    }
   }
  },
  {
   "cell_type": "code",
   "execution_count": 165,
   "outputs": [],
   "source": [
    "data.to_csv('Data/data.csv', index=False)"
   ],
   "metadata": {
    "collapsed": false,
    "pycharm": {
     "name": "#%%\n"
    }
   }
  },
  {
   "cell_type": "code",
   "execution_count": 35,
   "outputs": [
    {
     "data": {
      "text/plain": "(array([ 3.,  0., -5.]), 7464, 1.7810112657174784e-26)"
     },
     "execution_count": 35,
     "metadata": {},
     "output_type": "execute_result"
    }
   ],
   "source": [
    "from scipy.optimize import differential_evolution\n",
    "\n",
    "\n",
    "def market(x):\n",
    "    return 3 * x ** 2 - 5\n",
    "\n",
    "\n",
    "def model(params, x):\n",
    "    a, b, c = params\n",
    "    return a * x ** 2 + b * x + c\n",
    "\n",
    "\n",
    "def obj_func(params, x):\n",
    "    errors = model(params, x) - market(x)\n",
    "    return  np.sum(errors ** 2)\n",
    "\n",
    "\n",
    "x = np.linspace(-10, 10)\n",
    "bounds = [(-10, 10), (-10, 10), (-10, 10)]\n",
    "res = differential_evolution(func=obj_func,\n",
    "                             args=(x,),\n",
    "                             bounds=bounds)\n",
    "res.x, res.nfev, res.fun"
   ],
   "metadata": {
    "collapsed": false,
    "pycharm": {
     "name": "#%%\n"
    }
   }
  },
  {
   "cell_type": "code",
   "execution_count": 132,
   "outputs": [
    {
     "name": "stdout",
     "output_type": "stream",
     "text": [
      "Callback for minimizer starting at [0. 0. 0.]:\n",
      "[2.13074738e+05 9.76562500e-04 3.36938770e+03]\n",
      "[ 1.70635252e+00 -4.10034359e-05 -4.50785391e+01]\n",
      "[ 0.99999999  0.00316168 -0.99999966]\n",
      "[ 9.99999983e-01 -7.45058077e-09 -9.99999435e-01]\n",
      "[ 9.99999994e-01 -3.13501430e-09 -9.99999687e-01] 2.273373172007508e-12 True\n",
      "Optimization terminated successfully.\n"
     ]
    },
    {
     "data": {
      "text/plain": "<Figure size 432x288 with 1 Axes>",
      "image/png": "[encoded data removed]"
     },
     "metadata": {
      "needs_background": "light"
     },
     "output_type": "display_data"
    }
   ],
   "source": [
    "from scipy.optimize import rosen, shgo, differential_evolution\n",
    "import numpy as np\n",
    "import matplotlib.pyplot as plt\n",
    "\n",
    "def func(params, x):\n",
    "    a, b, c = params\n",
    "    return a * x ** 2 + b * x + c\n",
    "\n",
    "def obj_func(params, x, y):\n",
    "    errors = func(params, x) - y\n",
    "    return np.sum(errors ** 2)\n",
    "\n",
    "x = np.linspace(-10, 10)\n",
    "a, b, c = 1, 0, -1\n",
    "y = func((a, b, c), x)\n",
    "\n",
    "bounds = [(None, None), (None, None), (None, None)]\n",
    "res = shgo(obj_func, bounds, args=(x, y,), callback=print)\n",
    "# res = differential_evolution(obj_func, bounds, args=(x, y,))\n",
    "\n",
    "print(res.x, res.fun, res.success)\n",
    "print(res.message)\n",
    "\n",
    "plt.plot(x, y)\n",
    "plt.plot(x, func(res.x, x), '--')\n",
    "plt.show()"
   ],
   "metadata": {
    "collapsed": false,
    "pycharm": {
     "name": "#%%\n"
    }
   }
  }
 ],
 "metadata": {
  "kernelspec": {
   "display_name": "Python 3",
   "language": "python",
   "name": "python3"
  },
  "language_info": {
   "codemirror_mode": {
    "name": "ipython",
    "version": 2
   },
   "file_extension": ".py",
   "mimetype": "text/x-python",
   "name": "python",
   "nbconvert_exporter": "python",
   "pygments_lexer": "ipython2",
   "version": "2.7.6"
  }
 },
 "nbformat": 4,
 "nbformat_minor": 0
}